{
 "cells": [
  {
   "cell_type": "markdown",
   "id": "2c4f1c51-1948-4fd3-af0f-34faefe9d27c",
   "metadata": {
    "id": "2c4f1c51-1948-4fd3-af0f-34faefe9d27c",
    "tags": []
   },
   "source": [
    "# Temperature dependence of Hodgkin & Huxley action potentials\n",
    "\n",
    "![image](https://www.gardeningknowhow.com/wp-content/uploads/2021/05/chili-pepper-400x300.jpg)"
   ]
  },
  {
   "cell_type": "markdown",
   "id": "91daf3d3-3137-4fdb-a3b1-9736f4496245",
   "metadata": {
    "id": "91daf3d3-3137-4fdb-a3b1-9736f4496245"
   },
   "source": [
    "## Step 1: Setup"
   ]
  },
  {
   "cell_type": "code",
   "execution_count": 1,
   "id": "3f76960c-f05d-4c5d-bd70-88b79cb16cea",
   "metadata": {
    "id": "3f76960c-f05d-4c5d-bd70-88b79cb16cea"
   },
   "outputs": [],
   "source": [
    "# Setup inline plotting\n",
    "%matplotlib inline\n",
    "import matplotlib.pyplot as plt"
   ]
  },
  {
   "cell_type": "code",
   "execution_count": 2,
   "id": "acdff546-3746-40aa-95f7-e21c4bd66a93",
   "metadata": {
    "colab": {
     "base_uri": "https://localhost:8080/"
    },
    "id": "acdff546-3746-40aa-95f7-e21c4bd66a93",
    "outputId": "4a06ae51-ff84-4a9e-b7a4-3c57ed109d59"
   },
   "outputs": [
    {
     "name": "stdout",
     "output_type": "stream",
     "text": [
      "Requirement already satisfied: neuron in /home/emuller/.vmgr_repo/dev-2021-010-py38/lib/python3.8/site-packages (8.1.0)\n",
      "Requirement already satisfied: quantities in /home/emuller/.vmgr_repo/dev-2021-010-py38/lib/python3.8/site-packages (0.13.0)\n",
      "Requirement already satisfied: numpy>=1.9.3 in /home/emuller/.vmgr_repo/dev-2021-010-py38/lib/python3.8/site-packages (from neuron) (1.21.2)\n",
      "\u001b[33mWARNING: There was an error checking the latest version of pip.\u001b[0m\u001b[33m\n",
      "\u001b[0m"
     ]
    }
   ],
   "source": [
    "# For Google Colab, this line installs NEURON\n",
    "!pip install neuron quantities"
   ]
  },
  {
   "cell_type": "code",
   "execution_count": 95,
   "id": "eb5e73d4-622b-46d7-be45-8e7e655ed086",
   "metadata": {
    "id": "eb5e73d4-622b-46d7-be45-8e7e655ed086"
   },
   "outputs": [],
   "source": [
    "# We will let this library handle unit conversion for us\n",
    "import quantities as pq\n",
    "from quantities import um, nS, mV, cm, ms, nA, S, uF, Hz, degrees, s, MOhm"
   ]
  },
  {
   "cell_type": "code",
   "execution_count": 4,
   "id": "35b8535f-89d4-4304-8bd1-9e0cd76eec37",
   "metadata": {
    "colab": {
     "base_uri": "https://localhost:8080/"
    },
    "id": "35b8535f-89d4-4304-8bd1-9e0cd76eec37",
    "outputId": "7c926f1f-835d-442a-9538-dbb1a81251fc"
   },
   "outputs": [
    {
     "data": {
      "text/plain": [
       "1.0"
      ]
     },
     "execution_count": 4,
     "metadata": {},
     "output_type": "execute_result"
    }
   ],
   "source": [
    "# Import and initialize NEURON\n",
    "import neuron\n",
    "from neuron import h\n",
    "h.load_file(\"stdrun.hoc\")"
   ]
  },
  {
   "cell_type": "code",
   "execution_count": 5,
   "id": "a6acb16b-5ad6-4a7a-865c-bf5360462cad",
   "metadata": {
    "id": "a6acb16b-5ad6-4a7a-865c-bf5360462cad"
   },
   "outputs": [],
   "source": [
    "# Import other modules we need\n",
    "import numpy as np"
   ]
  },
  {
   "cell_type": "markdown",
   "id": "f83f6d94-1a9c-43f2-a983-11149d24d17a",
   "metadata": {
    "id": "f83f6d94-1a9c-43f2-a983-11149d24d17a"
   },
   "source": [
    "## Step 2: Define the circuit\n",
    "We will use a single compartment, called a \"Section\" (more on that in next lectures). <br>\n",
    "It has a cylindrical geometry with length \"L\" and a diameter \"diam\", and a specific capacitance \"cm\" (capacitance per area) <br>\n",
    "**Unit conversion is a common source of error, so we will be explicit with our units.** "
   ]
  },
  {
   "cell_type": "code",
   "execution_count": 6,
   "id": "e13401c0-f98c-48fe-aa11-0e4f18b4f513",
   "metadata": {
    "id": "e13401c0-f98c-48fe-aa11-0e4f18b4f513"
   },
   "outputs": [],
   "source": [
    "soma = h.Section()"
   ]
  },
  {
   "cell_type": "markdown",
   "id": "4cb84590-4966-45f1-842c-a8c19ac215fe",
   "metadata": {
    "id": "4cb84590-4966-45f1-842c-a8c19ac215fe"
   },
   "source": [
    "### Query NEURON for the expected units for soma.L & soma.diam"
   ]
  },
  {
   "cell_type": "code",
   "execution_count": 7,
   "id": "d95323fd-d419-4326-b303-20677d304524",
   "metadata": {
    "colab": {
     "base_uri": "https://localhost:8080/"
    },
    "id": "d95323fd-d419-4326-b303-20677d304524",
    "outputId": "9d337cd9-723d-4962-8dc6-2cbb7d2838e7"
   },
   "outputs": [
    {
     "data": {
      "text/plain": [
       "['um', 'um']"
      ]
     },
     "execution_count": 7,
     "metadata": {},
     "output_type": "execute_result"
    }
   ],
   "source": [
    "[h.units(x) for x in [\"L\", \"diam\"]]"
   ]
  },
  {
   "cell_type": "code",
   "execution_count": 8,
   "id": "6b2cd58a-2e4f-49e4-9b41-2dfb4ed41198",
   "metadata": {
    "id": "6b2cd58a-2e4f-49e4-9b41-2dfb4ed41198"
   },
   "outputs": [],
   "source": [
    "soma.L = 10 * um\n",
    "soma.diam =  10 * um"
   ]
  },
  {
   "cell_type": "code",
   "execution_count": 9,
   "id": "3c083424-9925-4bdf-8682-c1679d5a0351",
   "metadata": {
    "id": "3c083424-9925-4bdf-8682-c1679d5a0351"
   },
   "outputs": [],
   "source": [
    "volume = soma(0.5).volume() * um**3"
   ]
  },
  {
   "cell_type": "code",
   "execution_count": 10,
   "id": "b6f6bebf-b533-4e29-9c42-35bd34a09613",
   "metadata": {
    "id": "b6f6bebf-b533-4e29-9c42-35bd34a09613"
   },
   "outputs": [],
   "source": [
    "area = soma(0.5).area() * um**2"
   ]
  },
  {
   "cell_type": "code",
   "execution_count": 11,
   "id": "68a0b25b-dfe1-4109-b91c-2cb53c60316f",
   "metadata": {},
   "outputs": [
    {
     "data": {
      "text/plain": [
       "array(314.15926536) * um**2"
      ]
     },
     "execution_count": 11,
     "metadata": {},
     "output_type": "execute_result"
    }
   ],
   "source": [
    "area"
   ]
  },
  {
   "cell_type": "code",
   "execution_count": 12,
   "id": "3621dc76-877d-495b-a3fe-fe7eb1a80130",
   "metadata": {},
   "outputs": [
    {
     "data": {
      "text/plain": [
       "array(785.3981634) * um**3"
      ]
     },
     "execution_count": 12,
     "metadata": {},
     "output_type": "execute_result"
    }
   ],
   "source": [
    "volume"
   ]
  },
  {
   "cell_type": "markdown",
   "id": "5261a118-5c4f-4ed0-aa47-29567c762a0a",
   "metadata": {
    "id": "5261a118-5c4f-4ed0-aa47-29567c762a0a"
   },
   "source": [
    "### Assign the membrane capacitance \"everywhere\""
   ]
  },
  {
   "cell_type": "code",
   "execution_count": 13,
   "id": "942d3d8d-2df4-497a-a13b-488ac2215f2b",
   "metadata": {
    "colab": {
     "base_uri": "https://localhost:8080/",
     "height": 36
    },
    "id": "942d3d8d-2df4-497a-a13b-488ac2215f2b",
    "outputId": "f2e2b485-d34f-4c68-d5a2-a16e506c7749"
   },
   "outputs": [
    {
     "data": {
      "text/plain": [
       "'uF/cm2'"
      ]
     },
     "execution_count": 13,
     "metadata": {},
     "output_type": "execute_result"
    }
   ],
   "source": [
    "h.units(\"cm\")  # Query the expected units"
   ]
  },
  {
   "cell_type": "code",
   "execution_count": 14,
   "id": "2d63f42d-e209-4fdf-affc-025012ac32b9",
   "metadata": {},
   "outputs": [],
   "source": [
    "specific_membrane_capacitance = 1 * uF/cm**2"
   ]
  },
  {
   "cell_type": "code",
   "execution_count": 15,
   "id": "e1234740-c1da-4d86-8381-235aa41080dc",
   "metadata": {
    "id": "e1234740-c1da-4d86-8381-235aa41080dc"
   },
   "outputs": [],
   "source": [
    "for sec in soma.wholetree():\n",
    "    sec.cm = specific_membrane_capacitance #  specific membrane capacitance (micro Farads / cm^2)\n",
    "    sec.Ra = 100"
   ]
  },
  {
   "cell_type": "markdown",
   "id": "320dddb4-2759-4e69-91fd-7c576b8dbee1",
   "metadata": {},
   "source": [
    "### Add the Hodgkin-Huxley conductances"
   ]
  },
  {
   "cell_type": "code",
   "execution_count": 16,
   "id": "ba6e94c2-3945-49a3-a32b-c147bc101810",
   "metadata": {},
   "outputs": [
    {
     "data": {
      "text/plain": [
       "__nrnsec_0x1f42030"
      ]
     },
     "execution_count": 16,
     "metadata": {},
     "output_type": "execute_result"
    }
   ],
   "source": [
    "# This model includes the transient Na+, persistent K+ and the leak conductances\n",
    "soma.insert(\"hh\")"
   ]
  },
  {
   "cell_type": "markdown",
   "id": "4da6360e-3978-4f3e-82ff-beacf6553325",
   "metadata": {},
   "source": [
    "That's almost too easy!"
   ]
  },
  {
   "cell_type": "markdown",
   "id": "41cbfb41-b8ac-4469-b512-d7b98c2460a9",
   "metadata": {
    "id": "41cbfb41-b8ac-4469-b512-d7b98c2460a9",
    "tags": []
   },
   "source": [
    "### Parametize the leak conductance G = 1/R"
   ]
  },
  {
   "cell_type": "code",
   "execution_count": 17,
   "id": "5bd5ad89-4b23-4588-81d2-d748348c13dc",
   "metadata": {
    "id": "5bd5ad89-4b23-4588-81d2-d748348c13dc"
   },
   "outputs": [],
   "source": [
    "G = 0.1 * nS  # R = 1/G in our RC circuit"
   ]
  },
  {
   "cell_type": "code",
   "execution_count": 18,
   "id": "757fd83d-996f-4cd6-a0ad-c463031ce339",
   "metadata": {},
   "outputs": [],
   "source": [
    "v_rest = -70*mV"
   ]
  },
  {
   "cell_type": "code",
   "execution_count": 19,
   "id": "2068aaf5-b25a-4ece-9ee0-bc96d0f01d39",
   "metadata": {},
   "outputs": [],
   "source": [
    "tau_m = soma(0.5).cm / soma(0.5).hh.gl"
   ]
  },
  {
   "cell_type": "code",
   "execution_count": 20,
   "id": "d4ce4137-afc3-4d05-ba67-bcf1e054d654",
   "metadata": {},
   "outputs": [],
   "source": [
    "tau_m = (specific_membrane_capacitance * area / G).rescale(ms)"
   ]
  },
  {
   "cell_type": "code",
   "execution_count": 21,
   "id": "00bd7dfd-e9de-480b-afaa-7aaa192a219d",
   "metadata": {},
   "outputs": [
    {
     "data": {
      "text/plain": [
       "array(31.41592654) * ms"
      ]
     },
     "execution_count": 21,
     "metadata": {},
     "output_type": "execute_result"
    }
   ],
   "source": [
    "tau_m"
   ]
  },
  {
   "cell_type": "code",
   "execution_count": 22,
   "id": "09152bde-8285-4e7d-83e6-287d696d93e9",
   "metadata": {
    "id": "09152bde-8285-4e7d-83e6-287d696d93e9"
   },
   "outputs": [],
   "source": [
    "# Assign the leak conductance everywhere\n",
    "for seg in soma:\n",
    "    seg.hh.gl = (G/area).rescale(S/cm**2)  # Compute specific conductance, and rescale to units of 'S/cm2'\n",
    "    seg.hh.el = -54.3"
   ]
  },
  {
   "cell_type": "markdown",
   "id": "11553f14-dbba-4e95-9d97-346899cf089a",
   "metadata": {},
   "source": [
    "### Inspect our parameters"
   ]
  },
  {
   "cell_type": "code",
   "execution_count": 23,
   "id": "b2d8ca69-f309-44cb-87ca-b5b769c6424d",
   "metadata": {},
   "outputs": [
    {
     "data": {
      "text/plain": [
       "{'point_processes': {},\n",
       " 'density_mechs': {'hh': {'gnabar': [0.12],\n",
       "   'gkbar': [0.036],\n",
       "   'gl': [3.1830988618379074e-05],\n",
       "   'el': [-54.3],\n",
       "   'gna': [0.0],\n",
       "   'gk': [0.0],\n",
       "   'il': [0.0],\n",
       "   'minf': [0.0],\n",
       "   'hinf': [0.0],\n",
       "   'ninf': [0.0],\n",
       "   'mtau': [0.0],\n",
       "   'htau': [0.0],\n",
       "   'ntau': [0.0],\n",
       "   'm': [0.0],\n",
       "   'h': [0.0],\n",
       "   'n': [0.0]}},\n",
       " 'ions': {'na': {'ena': [50.0],\n",
       "   'nai': [10.0],\n",
       "   'nao': [140.0],\n",
       "   'ina': [0.0],\n",
       "   'dina_dv_': [0.0]},\n",
       "  'k': {'ek': [-77.0],\n",
       "   'ki': [54.4],\n",
       "   'ko': [2.5],\n",
       "   'ik': [0.0],\n",
       "   'dik_dv_': [0.0]}},\n",
       " 'morphology': {'L': 10.0,\n",
       "  'diam': [10.0],\n",
       "  'pts3d': [],\n",
       "  'parent': None,\n",
       "  'trueparent': None},\n",
       " 'nseg': 1,\n",
       " 'Ra': 100.0,\n",
       " 'cm': [1.0],\n",
       " 'regions': set(),\n",
       " 'species': set(),\n",
       " 'name': '__nrnsec_0x1f42030',\n",
       " 'hoc_internal_name': '__nrnsec_0x1f42030',\n",
       " 'cell': None}"
      ]
     },
     "execution_count": 23,
     "metadata": {},
     "output_type": "execute_result"
    }
   ],
   "source": [
    "soma.psection()"
   ]
  },
  {
   "cell_type": "code",
   "execution_count": 24,
   "id": "58173033-3ece-4fcd-8b23-f56323fd66ec",
   "metadata": {},
   "outputs": [
    {
     "data": {
      "text/plain": [
       "1"
      ]
     },
     "execution_count": 24,
     "metadata": {},
     "output_type": "execute_result"
    }
   ],
   "source": [
    "soma.nseg"
   ]
  },
  {
   "cell_type": "markdown",
   "id": "b85903a3-ac74-437f-91d9-1f284800cdb2",
   "metadata": {
    "id": "b85903a3-ac74-437f-91d9-1f284800cdb2"
   },
   "source": [
    "### Add a current injection"
   ]
  },
  {
   "cell_type": "code",
   "execution_count": 25,
   "id": "ad8b318a-8299-4095-921c-07a2dc4f8683",
   "metadata": {
    "id": "ad8b318a-8299-4095-921c-07a2dc4f8683"
   },
   "outputs": [],
   "source": [
    "stim = h.IClamp(soma(0.5))"
   ]
  },
  {
   "cell_type": "code",
   "execution_count": 49,
   "id": "c8597eb8-3230-4acd-a6e8-d6f7044eecd0",
   "metadata": {
    "id": "c8597eb8-3230-4acd-a6e8-d6f7044eecd0"
   },
   "outputs": [],
   "source": [
    "stim.delay = 200 * ms  # Inject current 500ms after the start of the simulation \n",
    "stim.dur = 600 * ms  # stop injecting current at 520ms \n",
    "stim.amp = 0.013 * nA  # Inject 0.1 nA of current"
   ]
  },
  {
   "cell_type": "markdown",
   "id": "559c8aaf-a94e-4fe6-bcba-bbb1ee619ce3",
   "metadata": {
    "id": "559c8aaf-a94e-4fe6-bcba-bbb1ee619ce3"
   },
   "source": [
    "## Step 3: Run the simulation"
   ]
  },
  {
   "cell_type": "markdown",
   "id": "8ab8d065-2a5b-4564-878f-21e0911aec40",
   "metadata": {
    "id": "8ab8d065-2a5b-4564-878f-21e0911aec40"
   },
   "source": [
    "### Define recordings of simulation variables"
   ]
  },
  {
   "cell_type": "code",
   "execution_count": 27,
   "id": "3b38bec8-27dc-4e7c-9e92-fd130f2f2ac2",
   "metadata": {
    "id": "3b38bec8-27dc-4e7c-9e92-fd130f2f2ac2"
   },
   "outputs": [],
   "source": [
    "soma_v = h.Vector().record(soma(0.5)._ref_v)\n",
    "t = h.Vector().record(h._ref_t)"
   ]
  },
  {
   "cell_type": "code",
   "execution_count": 28,
   "id": "5e7d9a95-a42d-4e6f-967f-2909cf13d4ab",
   "metadata": {},
   "outputs": [],
   "source": [
    "# Record hh gating variables\n",
    "hh_vars = ['h', 'm', 'n', 'gna', 'gk']\n",
    "hh_recordings = {}\n",
    "for var in hh_vars:\n",
    "    ref = getattr(soma(0.5).hh, \"_ref_\"+var )\n",
    "    hh_recordings[var] = h.Vector().record(ref) "
   ]
  },
  {
   "cell_type": "code",
   "execution_count": 29,
   "id": "eb163c44-85d7-4317-9401-11dea1d9472e",
   "metadata": {},
   "outputs": [
    {
     "data": {
      "text/plain": [
       "{'h': Vector[2],\n",
       " 'm': Vector[3],\n",
       " 'n': Vector[4],\n",
       " 'gna': Vector[5],\n",
       " 'gk': Vector[6]}"
      ]
     },
     "execution_count": 29,
     "metadata": {},
     "output_type": "execute_result"
    }
   ],
   "source": [
    "hh_recordings"
   ]
  },
  {
   "cell_type": "code",
   "execution_count": 87,
   "id": "f2905b83-9030-4a74-a0ef-18dbbd0d5b50",
   "metadata": {},
   "outputs": [],
   "source": [
    "temp_range = [3.6, 6.3, 9.8, 13.3, 20.2]\n",
    "stim.amp = 0.02 * nA  # Inject 0.1 nA of current\n",
    "stim.dur = 20 * ms"
   ]
  },
  {
   "cell_type": "code",
   "execution_count": 44,
   "id": "10d83847-de92-4360-8fd8-47306562321d",
   "metadata": {
    "colab": {
     "base_uri": "https://localhost:8080/"
    },
    "id": "b75bcf4c-21ef-43b1-99bc-b3c1a73dd991",
    "outputId": "ac83e0f2-a7eb-48d3-e32c-c272964d04fa"
   },
   "outputs": [],
   "source": [
    "def run_sim(temp=6.3):\n",
    "    h.celsius = temp\n",
    "    h.finitialize( float(v_rest) )\n",
    "    h.continuerun( float(1000 * ms) )\n",
    "    return np.array(t), np.array(soma_v)"
   ]
  },
  {
   "cell_type": "code",
   "execution_count": 89,
   "id": "02230d79-85eb-4601-91f6-7cda75b4101d",
   "metadata": {},
   "outputs": [
    {
     "data": {
      "text/plain": [
       "Text(0, 0.5, 'v (mV)')"
      ]
     },
     "execution_count": 89,
     "metadata": {},
     "output_type": "execute_result"
    },
    {
     "data": {
      "image/png": "[encoded data removed]",
      "text/plain": [
       "<Figure size 432x288 with 1 Axes>"
      ]
     },
     "metadata": {
      "needs_background": "light"
     },
     "output_type": "display_data"
    }
   ],
   "source": [
    "plt.figure()\n",
    "for temp in temp_range:\n",
    "    a_t, v = run_sim(temp)\n",
    "    plt.plot(a_t, v, label='%.1f$^\\circ$C' % temp)\n",
    "plt.axis([202,207,-80,50])\n",
    "#plt.axis([0.01, 0.02, 0, 100])\n",
    "plt.legend()\n",
    "plt.xlabel(\"t (ms)\")\n",
    "plt.ylabel(\"v (mV)\")"
   ]
  },
  {
   "cell_type": "markdown",
   "id": "af74c70f-3832-4f7a-bad0-38bc39c2081d",
   "metadata": {
    "tags": []
   },
   "source": [
    "## Now it's your turn!"
   ]
  },
  {
   "cell_type": "markdown",
   "id": "ed55c091-20b3-439c-a921-223cd18a83bb",
   "metadata": {
    "tags": []
   },
   "source": [
    "### **Activity 1** - Investigate the HH Na+ ion currents with voltage clamp\n",
    "\n"
   ]
  },
  {
   "cell_type": "code",
   "execution_count": 112,
   "id": "e261c079-3d25-4d22-9da2-80cbabe0624b",
   "metadata": {},
   "outputs": [],
   "source": [
    "# zero the current clamp to disable it\n",
    "stim.amp = 0"
   ]
  },
  {
   "cell_type": "markdown",
   "id": "8a6dc347-ccff-4b8b-a097-f8d34c098bb8",
   "metadata": {
    "id": "b85903a3-ac74-437f-91d9-1f284800cdb2"
   },
   "source": [
    "### Add voltage clamp & define holding voltages"
   ]
  },
  {
   "cell_type": "code",
   "execution_count": 97,
   "id": "d16c83df-0d35-419e-b476-5282c253dd86",
   "metadata": {
    "id": "ad8b318a-8299-4095-921c-07a2dc4f8683"
   },
   "outputs": [],
   "source": [
    "vclamp = h.SEClamp(soma(0.5))"
   ]
  },
  {
   "cell_type": "code",
   "execution_count": 111,
   "id": "57f34496-6e83-4fad-87ea-a435261ed95c",
   "metadata": {
    "id": "c8597eb8-3230-4acd-a6e8-d6f7044eecd0"
   },
   "outputs": [],
   "source": [
    "vclamp.dur1 = 200 * ms  # vclamp of amp1 until dur1 after the start of the simulation \n",
    "vclamp.dur2 = 700 * ms  # start amp2 at dur1 and apply until dur1+dur2\n",
    "vclamp.amp1 = v_rest #\n",
    "vclamp.amp2 = -40*mV # holding voltage\n",
    "vclamp.amp3 = v_rest # "
   ]
  },
  {
   "cell_type": "code",
   "execution_count": 99,
   "id": "4a711971-f789-459e-894d-a41eb0f80733",
   "metadata": {},
   "outputs": [
    {
     "data": {
      "text/plain": [
       "array(10000.) * megaohm"
      ]
     },
     "execution_count": 99,
     "metadata": {},
     "output_type": "execute_result"
    }
   ],
   "source": [
    "(1/G).rescale(MOhm) # What is Rin in MOhm?"
   ]
  },
  {
   "cell_type": "code",
   "execution_count": 100,
   "id": "6ba4faac-9e26-4af9-b111-4f00b3e5868c",
   "metadata": {},
   "outputs": [],
   "source": [
    "vclamp.rs = 0.01 * MOhm # The clamp series resistance should be < 1/100 Rin"
   ]
  },
  {
   "cell_type": "markdown",
   "id": "27f60333-b0ac-4ce0-a074-e937848e28b9",
   "metadata": {},
   "source": [
    "### Record the voltage clamp current"
   ]
  },
  {
   "cell_type": "code",
   "execution_count": 101,
   "id": "f14e8971-9a49-4466-970a-d6fe058399dc",
   "metadata": {},
   "outputs": [],
   "source": [
    "vclamp_i = h.Vector().record(vclamp._ref_i)"
   ]
  },
  {
   "cell_type": "markdown",
   "id": "e2f42fbb-cb35-46c5-9dfa-5639bf0e1277",
   "metadata": {},
   "source": [
    "### Define a function to run simulations"
   ]
  },
  {
   "cell_type": "code",
   "execution_count": 114,
   "id": "0ee254d6-f798-4c2e-a54d-e59e6a1dd0c7",
   "metadata": {
    "colab": {
     "base_uri": "https://localhost:8080/"
    },
    "id": "b75bcf4c-21ef-43b1-99bc-b3c1a73dd991",
    "outputId": "ac83e0f2-a7eb-48d3-e32c-c272964d04fa"
   },
   "outputs": [],
   "source": [
    "def run_sim(holding_voltage, temp=6.3):\n",
    "    h.celsis = temp\n",
    "    \n",
    "    # TODO\n",
    "    \n",
    "    pass"
   ]
  },
  {
   "cell_type": "markdown",
   "id": "9fa42f0a-8b62-4234-9911-c0c194fba60e",
   "metadata": {
    "id": "3499dc95-65e2-4fef-8f7a-a93eb55765d2"
   },
   "source": [
    "### Plot the current as a function of voltage step"
   ]
  },
  {
   "cell_type": "code",
   "execution_count": null,
   "id": "babe8a7b-f17d-41cc-845c-5f4837e3c904",
   "metadata": {},
   "outputs": [],
   "source": []
  },
  {
   "cell_type": "markdown",
   "id": "ebf26c67-ab04-4401-bb05-3c2713827f5a",
   "metadata": {
    "tags": []
   },
   "source": [
    "### **Activity 2** - Investigate the temperature dependence of HH Na+ ion currents with voltage clamp\n",
    "\n"
   ]
  },
  {
   "cell_type": "markdown",
   "id": "4b7be9c2-2f6d-4ceb-b3ec-184770f7958e",
   "metadata": {},
   "source": [
    "\n",
    "Plot the Na+ current using voltage clamp for a range of temperatures.  What is happening to the current as the temperature is lowered?\n",
    "\n"
   ]
  },
  {
   "cell_type": "code",
   "execution_count": null,
   "id": "7fff98ac-3610-4dfd-8a9f-b1c0eef9f3b5",
   "metadata": {},
   "outputs": [],
   "source": []
  }
 ],
 "metadata": {
  "colab": {
   "provenance": []
  },
  "kernelspec": {
   "display_name": "Python 3 (ipykernel)",
   "language": "python",
   "name": "python3"
  },
  "language_info": {
   "codemirror_mode": {
    "name": "ipython",
    "version": 3
   },
   "file_extension": ".py",
   "mimetype": "text/x-python",
   "name": "python",
   "nbconvert_exporter": "python",
   "pygments_lexer": "ipython3",
   "version": "3.10.12"
  }
 },
 "nbformat": 4,
 "nbformat_minor": 5
}
