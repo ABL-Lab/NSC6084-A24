{
 "cells": [
  {
   "cell_type": "markdown",
   "id": "2c4f1c51-1948-4fd3-af0f-34faefe9d27c",
   "metadata": {
    "id": "2c4f1c51-1948-4fd3-af0f-34faefe9d27c",
    "tags": []
   },
   "source": [
    "# Voltage clamp in a neuron with Hodgkin & Huxley conductances\n",
    "\n",
    " "
   ]
  },
  {
   "cell_type": "markdown",
   "id": "91daf3d3-3137-4fdb-a3b1-9736f4496245",
   "metadata": {
    "id": "91daf3d3-3137-4fdb-a3b1-9736f4496245"
   },
   "source": [
    "## Step 1: Setup"
   ]
  },
  {
   "cell_type": "code",
   "execution_count": 1,
   "id": "3f76960c-f05d-4c5d-bd70-88b79cb16cea",
   "metadata": {
    "id": "3f76960c-f05d-4c5d-bd70-88b79cb16cea"
   },
   "outputs": [],
   "source": [
    "# Setup inline plotting\n",
    "%matplotlib inline\n",
    "import matplotlib.pyplot as plt"
   ]
  },
  {
   "cell_type": "code",
   "execution_count": 2,
   "id": "acdff546-3746-40aa-95f7-e21c4bd66a93",
   "metadata": {
    "colab": {
     "base_uri": "https://localhost:8080/"
    },
    "id": "acdff546-3746-40aa-95f7-e21c4bd66a93",
    "outputId": "4a06ae51-ff84-4a9e-b7a4-3c57ed109d59"
   },
   "outputs": [
    {
     "name": "stdout",
     "output_type": "stream",
     "text": [
      "Requirement already satisfied: neuron in /home/emuller/.vmgr_repo/dev-2021-010-py38/lib/python3.8/site-packages (8.1.0)\n",
      "Requirement already satisfied: quantities in /home/emuller/.vmgr_repo/dev-2021-010-py38/lib/python3.8/site-packages (0.13.0)\n",
      "Requirement already satisfied: numpy>=1.9.3 in /home/emuller/.vmgr_repo/dev-2021-010-py38/lib/python3.8/site-packages (from neuron) (1.21.2)\n",
      "\u001b[33mWARNING: There was an error checking the latest version of pip.\u001b[0m\u001b[33m\n",
      "\u001b[0m"
     ]
    }
   ],
   "source": [
    "# For Google Colab, this line installs NEURON\n",
    "!pip install neuron quantities"
   ]
  },
  {
   "cell_type": "code",
   "execution_count": 57,
   "id": "2c7c6c73-4bb6-4079-b9a5-59b79894815d",
   "metadata": {},
   "outputs": [
    {
     "name": "stdout",
     "output_type": "stream",
     "text": [
      "Cloning into 'NSC6084-A23'...\n",
      "remote: Enumerating objects: 130, done.\u001b[K\n",
      "remote: Counting objects: 100% (130/130), done.\u001b[K\n",
      "remote: Compressing objects: 100% (94/94), done.\u001b[K\n",
      "remote: Total 130 (delta 47), reused 104 (delta 24), pack-reused 0\u001b[K\n",
      "Receiving objects: 100% (130/130), 3.25 MiB | 4.32 MiB/s, done.\n",
      "Resolving deltas: 100% (47/47), done.\n"
     ]
    }
   ],
   "source": [
    "# Fetch mechanisms\n",
    "!git clone https://github.com/ABL-Lab/NSC6084-A23.git"
   ]
  },
  {
   "cell_type": "code",
   "execution_count": 58,
   "id": "77161639-d931-4cbd-88f5-2d17894e0821",
   "metadata": {},
   "outputs": [
    {
     "name": "stdout",
     "output_type": "stream",
     "text": [
      "/home/emuller/.vmgr_repo/dev-2023-06-22-py310/bin/nrnivmodl:11: DeprecationWarning: The distutils package is deprecated and slated for removal in Python 3.12. Use setuptools or check PEP 632 for potential alternatives\n",
      "  from distutils.ccompiler import new_compiler\n",
      "/home/emuller/nC/teaching/NSC6084_CompNeuro/Fall_2023/NSC6084-A23-git/Sept19\n",
      "Mod files: \"./NSC6084-A23/Sept19/mechanisms/./NSC6084-A23/Sept19/mechanisms/CaDynamics_DC0.mod\" \"./NSC6084-A23/Sept19/mechanisms/./NSC6084-A23/Sept19/mechanisms/Ca_HVA2.mod\" \"./NSC6084-A23/Sept19/mechanisms/./NSC6084-A23/Sept19/mechanisms/Ca_LVAst.mod\" \"./NSC6084-A23/Sept19/mechanisms/./NSC6084-A23/Sept19/mechanisms/K_Pst.mod\" \"./NSC6084-A23/Sept19/mechanisms/./NSC6084-A23/Sept19/mechanisms/K_Tst.mod\" \"./NSC6084-A23/Sept19/mechanisms/./NSC6084-A23/Sept19/mechanisms/Kv4p2_channelpedia.mod\" \"./NSC6084-A23/Sept19/mechanisms/./NSC6084-A23/Sept19/mechanisms/NaTg.mod\" \"./NSC6084-A23/Sept19/mechanisms/./NSC6084-A23/Sept19/mechanisms/SK_E2.mod\" \"./NSC6084-A23/Sept19/mechanisms/./NSC6084-A23/Sept19/mechanisms/SKv3_1.mod\"\n",
      "\n",
      "Creating 'x86_64' directory for .o files.\n",
      "\n",
      " -> \u001b[32mCompiling\u001b[0m mod_func.cpp\n",
      " -> \u001b[32mNMODL\u001b[0m .././NSC6084-A23/Sept19/mechanisms/CaDynamics_DC0.mod\n",
      " -> \u001b[32mNMODL\u001b[0m .././NSC6084-A23/Sept19/mechanisms/Ca_HVA2.mod\n",
      " -> \u001b[32mNMODL\u001b[0m .././NSC6084-A23/Sept19/mechanisms/Ca_LVAst.mod\n",
      "Translating Ca_LVAst.mod into /home/emuller/nC/teaching/NSC6084_CompNeuro/Fall_2023/NSC6084-A23-git/Sept19/x86_64/Ca_LVAst.c\n",
      "Translating CaDynamics_DC0.mod into /home/emuller/nC/teaching/NSC6084_CompNeuro/Fall_2023/NSC6084-A23-git/Sept19/x86_64/CaDynamics_DC0.c\n",
      "Translating Ca_HVA2.mod into /home/emuller/nC/teaching/NSC6084_CompNeuro/Fall_2023/NSC6084-A23-git/Sept19/x86_64/Ca_HVA2.c\n",
      "Thread Safe\n",
      "Thread Safe\n",
      "Thread Safe\n",
      " -> \u001b[32mNMODL\u001b[0m .././NSC6084-A23/Sept19/mechanisms/K_Pst.mod\n",
      " -> \u001b[32mNMODL\u001b[0m .././NSC6084-A23/Sept19/mechanisms/K_Tst.mod\n",
      " -> \u001b[32mNMODL\u001b[0m .././NSC6084-A23/Sept19/mechanisms/Kv4p2_channelpedia.mod\n",
      "Translating K_Pst.mod into /home/emuller/nC/teaching/NSC6084_CompNeuro/Fall_2023/NSC6084-A23-git/Sept19/x86_64/K_Pst.c\n",
      "Translating K_Tst.mod into /home/emuller/nC/teaching/NSC6084_CompNeuro/Fall_2023/NSC6084-A23-git/Sept19/x86_64/K_Tst.c\n",
      "Translating Kv4p2_channelpedia.mod into /home/emuller/nC/teaching/NSC6084_CompNeuro/Fall_2023/NSC6084-A23-git/Sept19/x86_64/Kv4p2_channelpedia.c\n",
      "Thread Safe\n",
      "Thread Safe\n",
      " -> \u001b[32mNMODL\u001b[0m .././NSC6084-A23/Sept19/mechanisms/NaTg.mod\n",
      "Thread Safe\n",
      " -> \u001b[32mNMODL\u001b[0m .././NSC6084-A23/Sept19/mechanisms/SK_E2.mod\n",
      " -> \u001b[32mNMODL\u001b[0m .././NSC6084-A23/Sept19/mechanisms/SKv3_1.mod\n",
      "Translating NaTg.mod into /home/emuller/nC/teaching/NSC6084_CompNeuro/Fall_2023/NSC6084-A23-git/Sept19/x86_64/NaTg.c\n",
      "Translating SK_E2.mod into /home/emuller/nC/teaching/NSC6084_CompNeuro/Fall_2023/NSC6084-A23-git/Sept19/x86_64/SK_E2.c\n",
      "Thread Safe\n",
      "Translating SKv3_1.mod into /home/emuller/nC/teaching/NSC6084_CompNeuro/Fall_2023/NSC6084-A23-git/Sept19/x86_64/SKv3_1.c\n",
      " -> \u001b[32mCompiling\u001b[0m CaDynamics_DC0.c\n",
      "Thread Safe\n",
      "Thread Safe\n",
      " -> \u001b[32mCompiling\u001b[0m Ca_HVA2.c\n",
      " -> \u001b[32mCompiling\u001b[0m Ca_LVAst.c\n",
      " -> \u001b[32mCompiling\u001b[0m K_Pst.c\n",
      " -> \u001b[32mCompiling\u001b[0m K_Tst.c\n",
      " -> \u001b[32mCompiling\u001b[0m Kv4p2_channelpedia.c\n",
      " -> \u001b[32mCompiling\u001b[0m NaTg.c\n",
      " -> \u001b[32mCompiling\u001b[0m SK_E2.c\n",
      " -> \u001b[32mCompiling\u001b[0m SKv3_1.c\n",
      " => \u001b[32mLINKING\u001b[0m shared library ./libnrnmech.so\n",
      " => \u001b[32mLINKING\u001b[0m executable ./special LDFLAGS are:    -pthread\n",
      "Successfully created x86_64/special\n"
     ]
    }
   ],
   "source": [
    "# Compile the mechanisms\n",
    "# Note: recompiled mechanisms will not take effect until neuron is imported or the jupyter kernel is restarted\n",
    "!nrnivmodl ./NSC6084-A23/Sept19/mechanisms"
   ]
  },
  {
   "cell_type": "code",
   "execution_count": 2,
   "id": "eb5e73d4-622b-46d7-be45-8e7e655ed086",
   "metadata": {
    "id": "eb5e73d4-622b-46d7-be45-8e7e655ed086"
   },
   "outputs": [],
   "source": [
    "# We will let this library handle unit conversion for us\n",
    "import quantities as pq\n",
    "from quantities import um, nS, mV, cm, ms, nA, S, uF, Hz, degrees, s, MOhm, mS, mm"
   ]
  },
  {
   "cell_type": "code",
   "execution_count": 3,
   "id": "35b8535f-89d4-4304-8bd1-9e0cd76eec37",
   "metadata": {
    "colab": {
     "base_uri": "https://localhost:8080/"
    },
    "id": "35b8535f-89d4-4304-8bd1-9e0cd76eec37",
    "outputId": "7c926f1f-835d-442a-9538-dbb1a81251fc"
   },
   "outputs": [
    {
     "data": {
      "text/plain": [
       "1.0"
      ]
     },
     "execution_count": 3,
     "metadata": {},
     "output_type": "execute_result"
    }
   ],
   "source": [
    "# Import and initialize NEURON\n",
    "import neuron\n",
    "from neuron import h\n",
    "h.load_file(\"stdrun.hoc\")"
   ]
  },
  {
   "cell_type": "code",
   "execution_count": 4,
   "id": "a6acb16b-5ad6-4a7a-865c-bf5360462cad",
   "metadata": {
    "id": "a6acb16b-5ad6-4a7a-865c-bf5360462cad"
   },
   "outputs": [],
   "source": [
    "# Import other modules we need\n",
    "import numpy as np"
   ]
  },
  {
   "cell_type": "markdown",
   "id": "f83f6d94-1a9c-43f2-a983-11149d24d17a",
   "metadata": {
    "id": "f83f6d94-1a9c-43f2-a983-11149d24d17a"
   },
   "source": [
    "## Step 2: Define the circuit\n",
    "We will use a single compartment, called a \"Section\" (more on that in next lectures). <br>\n",
    "It has a cylindrical geometry with length \"L\" and a diameter \"diam\", and a specific capacitance \"cm\" (capacitance per area) <br>\n",
    "**Unit conversion is a common source of error, so we will be explicit with our units.** "
   ]
  },
  {
   "cell_type": "code",
   "execution_count": 5,
   "id": "e13401c0-f98c-48fe-aa11-0e4f18b4f513",
   "metadata": {
    "id": "e13401c0-f98c-48fe-aa11-0e4f18b4f513"
   },
   "outputs": [],
   "source": [
    "soma = h.Section()"
   ]
  },
  {
   "cell_type": "markdown",
   "id": "4cb84590-4966-45f1-842c-a8c19ac215fe",
   "metadata": {
    "id": "4cb84590-4966-45f1-842c-a8c19ac215fe"
   },
   "source": [
    "### Query NEURON for the expected units for soma.L & soma.diam"
   ]
  },
  {
   "cell_type": "code",
   "execution_count": 6,
   "id": "d95323fd-d419-4326-b303-20677d304524",
   "metadata": {
    "colab": {
     "base_uri": "https://localhost:8080/"
    },
    "id": "d95323fd-d419-4326-b303-20677d304524",
    "outputId": "9d337cd9-723d-4962-8dc6-2cbb7d2838e7"
   },
   "outputs": [
    {
     "data": {
      "text/plain": [
       "['um', 'um']"
      ]
     },
     "execution_count": 6,
     "metadata": {},
     "output_type": "execute_result"
    }
   ],
   "source": [
    "[h.units(x) for x in [\"L\", \"diam\"]]"
   ]
  },
  {
   "cell_type": "code",
   "execution_count": 7,
   "id": "6b2cd58a-2e4f-49e4-9b41-2dfb4ed41198",
   "metadata": {
    "id": "6b2cd58a-2e4f-49e4-9b41-2dfb4ed41198"
   },
   "outputs": [],
   "source": [
    "soma.L = 10 * um\n",
    "soma.diam =  10 * um"
   ]
  },
  {
   "cell_type": "code",
   "execution_count": 8,
   "id": "3c083424-9925-4bdf-8682-c1679d5a0351",
   "metadata": {
    "id": "3c083424-9925-4bdf-8682-c1679d5a0351"
   },
   "outputs": [],
   "source": [
    "volume = soma(0.5).volume() * um**3"
   ]
  },
  {
   "cell_type": "code",
   "execution_count": 9,
   "id": "b6f6bebf-b533-4e29-9c42-35bd34a09613",
   "metadata": {
    "id": "b6f6bebf-b533-4e29-9c42-35bd34a09613"
   },
   "outputs": [],
   "source": [
    "area = soma(0.5).area() * um**2"
   ]
  },
  {
   "cell_type": "code",
   "execution_count": 10,
   "id": "68a0b25b-dfe1-4109-b91c-2cb53c60316f",
   "metadata": {},
   "outputs": [
    {
     "data": {
      "text/plain": [
       "array(314.15926536) * um**2"
      ]
     },
     "execution_count": 10,
     "metadata": {},
     "output_type": "execute_result"
    }
   ],
   "source": [
    "area"
   ]
  },
  {
   "cell_type": "code",
   "execution_count": 11,
   "id": "3621dc76-877d-495b-a3fe-fe7eb1a80130",
   "metadata": {},
   "outputs": [
    {
     "data": {
      "text/plain": [
       "array(785.3981634) * um**3"
      ]
     },
     "execution_count": 11,
     "metadata": {},
     "output_type": "execute_result"
    }
   ],
   "source": [
    "volume"
   ]
  },
  {
   "cell_type": "markdown",
   "id": "5261a118-5c4f-4ed0-aa47-29567c762a0a",
   "metadata": {
    "id": "5261a118-5c4f-4ed0-aa47-29567c762a0a"
   },
   "source": [
    "### Assign the membrane capacitance \"everywhere\""
   ]
  },
  {
   "cell_type": "code",
   "execution_count": 12,
   "id": "942d3d8d-2df4-497a-a13b-488ac2215f2b",
   "metadata": {
    "colab": {
     "base_uri": "https://localhost:8080/",
     "height": 36
    },
    "id": "942d3d8d-2df4-497a-a13b-488ac2215f2b",
    "outputId": "f2e2b485-d34f-4c68-d5a2-a16e506c7749"
   },
   "outputs": [
    {
     "data": {
      "text/plain": [
       "'uF/cm2'"
      ]
     },
     "execution_count": 12,
     "metadata": {},
     "output_type": "execute_result"
    }
   ],
   "source": [
    "h.units(\"cm\")  # Query the expected units"
   ]
  },
  {
   "cell_type": "code",
   "execution_count": 13,
   "id": "2d63f42d-e209-4fdf-affc-025012ac32b9",
   "metadata": {},
   "outputs": [],
   "source": [
    "specific_membrane_capacitance = 1 * uF/cm**2"
   ]
  },
  {
   "cell_type": "code",
   "execution_count": 14,
   "id": "e1234740-c1da-4d86-8381-235aa41080dc",
   "metadata": {
    "id": "e1234740-c1da-4d86-8381-235aa41080dc"
   },
   "outputs": [],
   "source": [
    "for sec in soma.wholetree():\n",
    "    sec.cm = specific_membrane_capacitance #  specific membrane capacitance (micro Farads / cm^2)\n",
    "    sec.Ra = 100"
   ]
  },
  {
   "cell_type": "markdown",
   "id": "320dddb4-2759-4e69-91fd-7c576b8dbee1",
   "metadata": {},
   "source": [
    "### Add the Hodgkin-Huxley conductances"
   ]
  },
  {
   "cell_type": "code",
   "execution_count": 15,
   "id": "ba6e94c2-3945-49a3-a32b-c147bc101810",
   "metadata": {},
   "outputs": [
    {
     "data": {
      "text/plain": [
       "__nrnsec_0x5577df6fb220"
      ]
     },
     "execution_count": 15,
     "metadata": {},
     "output_type": "execute_result"
    }
   ],
   "source": [
    "# This model includes the transient Na+, persistent K+ and the leak conductances\n",
    "soma.insert(\"hh\")"
   ]
  },
  {
   "cell_type": "markdown",
   "id": "4da6360e-3978-4f3e-82ff-beacf6553325",
   "metadata": {},
   "source": [
    "That's almost too easy!"
   ]
  },
  {
   "cell_type": "markdown",
   "id": "41cbfb41-b8ac-4469-b512-d7b98c2460a9",
   "metadata": {
    "id": "41cbfb41-b8ac-4469-b512-d7b98c2460a9",
    "tags": []
   },
   "source": [
    "### Parametize the leak conductance G = 1/R"
   ]
  },
  {
   "cell_type": "code",
   "execution_count": 16,
   "id": "5bd5ad89-4b23-4588-81d2-d748348c13dc",
   "metadata": {
    "id": "5bd5ad89-4b23-4588-81d2-d748348c13dc"
   },
   "outputs": [],
   "source": [
    "G = 1 * nS  # R = 1/G in our RC circuit"
   ]
  },
  {
   "cell_type": "code",
   "execution_count": 17,
   "id": "757fd83d-996f-4cd6-a0ad-c463031ce339",
   "metadata": {},
   "outputs": [],
   "source": [
    "v_rest = -70*mV"
   ]
  },
  {
   "cell_type": "code",
   "execution_count": 18,
   "id": "d4ce4137-afc3-4d05-ba67-bcf1e054d654",
   "metadata": {},
   "outputs": [],
   "source": [
    "tau_m = (specific_membrane_capacitance * area / G).rescale(ms)"
   ]
  },
  {
   "cell_type": "code",
   "execution_count": 19,
   "id": "00bd7dfd-e9de-480b-afaa-7aaa192a219d",
   "metadata": {},
   "outputs": [
    {
     "data": {
      "text/plain": [
       "array(3.14159265) * ms"
      ]
     },
     "execution_count": 19,
     "metadata": {},
     "output_type": "execute_result"
    }
   ],
   "source": [
    "tau_m"
   ]
  },
  {
   "cell_type": "code",
   "execution_count": 20,
   "id": "09152bde-8285-4e7d-83e6-287d696d93e9",
   "metadata": {
    "id": "09152bde-8285-4e7d-83e6-287d696d93e9"
   },
   "outputs": [],
   "source": [
    "# Assign the leak conductance everywhere\n",
    "for seg in soma:\n",
    "    seg.hh.gl = (G/area).rescale(S/cm**2)  # Compute specific conductance, and rescale to units of 'S/cm2'\n",
    "    seg.hh.el = -54.3"
   ]
  },
  {
   "cell_type": "code",
   "execution_count": 21,
   "id": "2068aaf5-b25a-4ece-9ee0-bc96d0f01d39",
   "metadata": {},
   "outputs": [],
   "source": [
    "tau_m = ((soma(0.5).cm * uF/cm**2 )/ (soma(0.5).hh.gl *S/cm**2 )).rescale(ms)"
   ]
  },
  {
   "cell_type": "code",
   "execution_count": 22,
   "id": "a8dbabc2-4a03-4733-8e78-e129f0fc960c",
   "metadata": {},
   "outputs": [
    {
     "data": {
      "text/plain": [
       "array(3.14159265) * ms"
      ]
     },
     "execution_count": 22,
     "metadata": {},
     "output_type": "execute_result"
    }
   ],
   "source": [
    "tau_m"
   ]
  },
  {
   "cell_type": "code",
   "execution_count": 23,
   "id": "14173aec-9a60-46da-85cb-082cd9f3cc35",
   "metadata": {},
   "outputs": [
    {
     "data": {
      "text/plain": [
       "0.00031830988618379076"
      ]
     },
     "execution_count": 23,
     "metadata": {},
     "output_type": "execute_result"
    }
   ],
   "source": [
    "soma(0.5).hh.gl # comparable to Conner-Stevens gL"
   ]
  },
  {
   "cell_type": "code",
   "execution_count": 24,
   "id": "4d06b5fe-ec51-4bda-b8fc-bec127950a9d",
   "metadata": {},
   "outputs": [
    {
     "data": {
      "text/plain": [
       "array(0.36) * mS/mm**2"
      ]
     },
     "execution_count": 24,
     "metadata": {},
     "output_type": "execute_result"
    }
   ],
   "source": [
    "(soma(0.5).hh.gkbar *S/cm**2 ).rescale(mS/mm**2)  # comparable to Conner-Stevens gkbar"
   ]
  },
  {
   "cell_type": "code",
   "execution_count": 25,
   "id": "dbd91d3a-1918-464a-9fc3-49ad815d4851",
   "metadata": {},
   "outputs": [
    {
     "data": {
      "text/plain": [
       "array(1.2) * mS/mm**2"
      ]
     },
     "execution_count": 25,
     "metadata": {},
     "output_type": "execute_result"
    }
   ],
   "source": [
    "(0.12 *S/cm**2 ).rescale(mS/mm**2) # comparable to Conner-Stevens gnabar"
   ]
  },
  {
   "cell_type": "code",
   "execution_count": 26,
   "id": "4641befb-875c-4525-98f5-a6425bf3b8bd",
   "metadata": {},
   "outputs": [
    {
     "data": {
      "text/plain": [
       "array(0.1) * S/cm**2"
      ]
     },
     "execution_count": 26,
     "metadata": {},
     "output_type": "execute_result"
    }
   ],
   "source": [
    "(1.0*mS/mm**2).rescale(S/cm**2)"
   ]
  },
  {
   "cell_type": "markdown",
   "id": "11553f14-dbba-4e95-9d97-346899cf089a",
   "metadata": {},
   "source": [
    "### Inspect our parameters"
   ]
  },
  {
   "cell_type": "code",
   "execution_count": 27,
   "id": "b2d8ca69-f309-44cb-87ca-b5b769c6424d",
   "metadata": {},
   "outputs": [
    {
     "data": {
      "text/plain": [
       "{'point_processes': {},\n",
       " 'density_mechs': {'hh': {'gnabar': [0.12],\n",
       "   'gkbar': [0.036],\n",
       "   'gl': [0.00031830988618379076],\n",
       "   'el': [-54.3],\n",
       "   'gna': [0.0],\n",
       "   'gk': [0.0],\n",
       "   'il': [0.0],\n",
       "   'minf': [0.0],\n",
       "   'hinf': [0.0],\n",
       "   'ninf': [0.0],\n",
       "   'mtau': [0.0],\n",
       "   'htau': [0.0],\n",
       "   'ntau': [0.0],\n",
       "   'm': [0.0],\n",
       "   'h': [0.0],\n",
       "   'n': [0.0]}},\n",
       " 'ions': {'na': {'ena': [50.0],\n",
       "   'nai': [10.0],\n",
       "   'nao': [140.0],\n",
       "   'ina': [0.0],\n",
       "   'dina_dv_': [0.0]},\n",
       "  'k': {'ek': [-77.0],\n",
       "   'ki': [54.4],\n",
       "   'ko': [2.5],\n",
       "   'ik': [0.0],\n",
       "   'dik_dv_': [0.0]}},\n",
       " 'morphology': {'L': 10.0,\n",
       "  'diam': [10.0],\n",
       "  'pts3d': [],\n",
       "  'parent': None,\n",
       "  'trueparent': None},\n",
       " 'nseg': 1,\n",
       " 'Ra': 100.0,\n",
       " 'cm': [1.0],\n",
       " 'regions': set(),\n",
       " 'species': set(),\n",
       " 'name': '__nrnsec_0x5577df6fb220',\n",
       " 'hoc_internal_name': '__nrnsec_0x5577df6fb220',\n",
       " 'cell': None}"
      ]
     },
     "execution_count": 27,
     "metadata": {},
     "output_type": "execute_result"
    }
   ],
   "source": [
    "soma.psection()"
   ]
  },
  {
   "cell_type": "markdown",
   "id": "b85903a3-ac74-437f-91d9-1f284800cdb2",
   "metadata": {
    "id": "b85903a3-ac74-437f-91d9-1f284800cdb2"
   },
   "source": [
    "### Add voltage clamp"
   ]
  },
  {
   "cell_type": "code",
   "execution_count": 28,
   "id": "ad8b318a-8299-4095-921c-07a2dc4f8683",
   "metadata": {
    "id": "ad8b318a-8299-4095-921c-07a2dc4f8683"
   },
   "outputs": [],
   "source": [
    "vclamp = h.SEClamp(soma(0.5))"
   ]
  },
  {
   "cell_type": "code",
   "execution_count": 29,
   "id": "c8597eb8-3230-4acd-a6e8-d6f7044eecd0",
   "metadata": {
    "id": "c8597eb8-3230-4acd-a6e8-d6f7044eecd0"
   },
   "outputs": [],
   "source": [
    "vclamp.dur1 = 200 * ms  # Inject current 500ms after the start of the simulation \n",
    "vclamp.dur2 = 700 * ms  # stop injecting current at 520ms \n",
    "vclamp.amp1 = v_rest\n",
    "vclamp.amp2 = -40*mV\n",
    "vclamp.amp3 = v_rest\n"
   ]
  },
  {
   "cell_type": "code",
   "execution_count": 30,
   "id": "658f087c-5334-4fe6-8c4a-063fdd9c2e2f",
   "metadata": {},
   "outputs": [
    {
     "data": {
      "text/plain": [
       "array(1000.) * megaohm"
      ]
     },
     "execution_count": 30,
     "metadata": {},
     "output_type": "execute_result"
    }
   ],
   "source": [
    "(1/G).rescale(MOhm)"
   ]
  },
  {
   "cell_type": "code",
   "execution_count": 31,
   "id": "6415072d-6923-4666-ae11-ad3e54de07d0",
   "metadata": {},
   "outputs": [],
   "source": [
    "vclamp.rs = 0.01 # The clamp series resistance should be < 1/100 Rin"
   ]
  },
  {
   "cell_type": "markdown",
   "id": "559c8aaf-a94e-4fe6-bcba-bbb1ee619ce3",
   "metadata": {
    "id": "559c8aaf-a94e-4fe6-bcba-bbb1ee619ce3"
   },
   "source": [
    "## Step 3: Run the simulation"
   ]
  },
  {
   "cell_type": "markdown",
   "id": "8ab8d065-2a5b-4564-878f-21e0911aec40",
   "metadata": {
    "id": "8ab8d065-2a5b-4564-878f-21e0911aec40"
   },
   "source": [
    "### Define recordings of simulation variables"
   ]
  },
  {
   "cell_type": "code",
   "execution_count": 32,
   "id": "3b38bec8-27dc-4e7c-9e92-fd130f2f2ac2",
   "metadata": {
    "id": "3b38bec8-27dc-4e7c-9e92-fd130f2f2ac2"
   },
   "outputs": [],
   "source": [
    "soma_v = h.Vector().record(soma(0.5)._ref_v)\n",
    "t = h.Vector().record(h._ref_t)"
   ]
  },
  {
   "cell_type": "code",
   "execution_count": 33,
   "id": "6f9f3351-5189-4415-841e-91d6d6afe3e9",
   "metadata": {},
   "outputs": [],
   "source": [
    "vclamp_i = h.Vector().record(vclamp._ref_i)"
   ]
  },
  {
   "cell_type": "markdown",
   "id": "44c70b88-dd4f-44b7-a303-7b2e79755393",
   "metadata": {
    "id": "44c70b88-dd4f-44b7-a303-7b2e79755393"
   },
   "source": [
    "### Function to run a holding voltage simulation"
   ]
  },
  {
   "cell_type": "code",
   "execution_count": 34,
   "id": "b75bcf4c-21ef-43b1-99bc-b3c1a73dd991",
   "metadata": {
    "colab": {
     "base_uri": "https://localhost:8080/"
    },
    "id": "b75bcf4c-21ef-43b1-99bc-b3c1a73dd991",
    "outputId": "ac83e0f2-a7eb-48d3-e32c-c272964d04fa"
   },
   "outputs": [],
   "source": [
    "def run_sim(holding_voltage):\n",
    "    vclamp.amp2 = holding_voltage\n",
    "    h.finitialize( float(v_rest) )\n",
    "    h.continuerun( float(1000 * ms) )\n",
    "    return np.array(t), np.array(soma_v), np.array(vclamp_i)"
   ]
  },
  {
   "cell_type": "markdown",
   "id": "3499dc95-65e2-4fef-8f7a-a93eb55765d2",
   "metadata": {
    "id": "3499dc95-65e2-4fef-8f7a-a93eb55765d2"
   },
   "source": [
    "## Step 4: Plot the results"
   ]
  },
  {
   "cell_type": "code",
   "execution_count": 35,
   "id": "cb056f27-2003-4121-ad42-102a3113d844",
   "metadata": {
    "colab": {
     "base_uri": "https://localhost:8080/",
     "height": 328
    },
    "id": "cb056f27-2003-4121-ad42-102a3113d844",
    "outputId": "ee03cb22-343d-434a-b41f-f68819840294"
   },
   "outputs": [
    {
     "data": {
      "text/plain": [
       "(195.0, 210.0, -80.0, 20.0)"
      ]
     },
     "execution_count": 35,
     "metadata": {},
     "output_type": "execute_result"
    },
    {
     "data": {
      "image/png": "[encoded data removed]",
      "text/plain": [
       "<Figure size 640x480 with 2 Axes>"
      ]
     },
     "metadata": {},
     "output_type": "display_data"
    }
   ],
   "source": [
    "soma(0.5).hh.gkbar = 0.0 # Zero HH K conductance\n",
    "soma(0.5).hh.gnabar = 0.12\n",
    "fig = plt.figure()\n",
    "ax1, ax2 = fig.subplots(2, 1)\n",
    "for holding_voltage in [-70, -60, -50, -40, -30, -20, -10, 0]:\n",
    "    a_t, v, i = run_sim(holding_voltage)\n",
    "    ax1.plot(a_t, i, lw=2, label=\"%f mV\" % holding_voltage)\n",
    "    ax2.plot(a_t, v, lw=2, label=\"%f mV\" % holding_voltage)\n",
    "    #plt.legend(fontsize=12)\n",
    "ax1.set_xlabel(\"t [ms]\", size=16)\n",
    "ax1.set_ylabel(\"i [nA]\", size=16)\n",
    "ax2.set_xlabel(\"t [ms]\", size=16)\n",
    "ax2.set_ylabel(\"v [mV]\", size=16)\n",
    "ax1.axis([195,210,-8,8])\n",
    "ax2.axis([195,210, -80, 20])"
   ]
  },
  {
   "cell_type": "code",
   "execution_count": 36,
   "id": "e15be398-11c9-4998-800e-b6a338a3b872",
   "metadata": {},
   "outputs": [
    {
     "data": {
      "text/plain": [
       "(195.0, 210.0, -80.0, 20.0)"
      ]
     },
     "execution_count": 36,
     "metadata": {},
     "output_type": "execute_result"
    },
    {
     "data": {
      "image/png": "[encoded data removed]",
      "text/plain": [
       "<Figure size 640x480 with 2 Axes>"
      ]
     },
     "metadata": {},
     "output_type": "display_data"
    }
   ],
   "source": [
    "soma(0.5).hh.gkbar = 0.036\n",
    "soma(0.5).hh.gnabar = 0.0 # Zero HH Na conductance\n",
    "fig = plt.figure()\n",
    "ax1, ax2 = fig.subplots(2, 1)\n",
    "for holding_voltage in [-70, -60, -50, -40, -30, -20, -10, 0]:\n",
    "    a_t, v, i = run_sim(holding_voltage)\n",
    "    ax1.plot(a_t, i, lw=2, label=\"%f mV\" % holding_voltage)\n",
    "    ax2.plot(a_t, v, lw=2, label=\"%f mV\" % holding_voltage)\n",
    "    #plt.legend(fontsize=12)\n",
    "ax1.set_xlabel(\"t [ms]\", size=16)\n",
    "ax1.set_ylabel(\"i [nA]\", size=16)\n",
    "ax2.set_xlabel(\"t [ms]\", size=16)\n",
    "ax2.set_ylabel(\"v [mV]\", size=16)\n",
    "ax1.axis([195,210,-8,8])\n",
    "ax2.axis([195,210, -80, 20])"
   ]
  },
  {
   "cell_type": "code",
   "execution_count": 37,
   "id": "8a9dfba9-184e-4971-82f0-425a231b8190",
   "metadata": {},
   "outputs": [
    {
     "data": {
      "text/plain": [
       "(195.0, 210.0, -80.0, 20.0)"
      ]
     },
     "execution_count": 37,
     "metadata": {},
     "output_type": "execute_result"
    },
    {
     "data": {
      "image/png": "[encoded data removed]",
      "text/plain": [
       "<Figure size 640x480 with 2 Axes>"
      ]
     },
     "metadata": {},
     "output_type": "display_data"
    }
   ],
   "source": [
    "soma(0.5).hh.gkbar = 0.0\n",
    "soma(0.5).hh.gnabar = 0.0 # Zero HH Na conductance\n",
    "fig = plt.figure()\n",
    "ax1, ax2 = fig.subplots(2, 1)\n",
    "for holding_voltage in [-70, -60, -50, -40, -30, -20, -10, 0]:\n",
    "    a_t, v, i = run_sim(holding_voltage)\n",
    "    ax1.plot(a_t, i, lw=2, label=\"%f mV\" % holding_voltage)\n",
    "    ax2.plot(a_t, v, lw=2, label=\"%f mV\" % holding_voltage)\n",
    "    #plt.legend(fontsize=12)\n",
    "ax1.set_xlabel(\"t [ms]\", size=16)\n",
    "ax1.set_ylabel(\"i [nA]\", size=16)\n",
    "ax2.set_xlabel(\"t [ms]\", size=16)\n",
    "ax2.set_ylabel(\"v [mV]\", size=16)\n",
    "ax1.axis([195,210,-0.2,0.2])\n",
    "ax2.axis([195,210, -80, 20])"
   ]
  },
  {
   "cell_type": "markdown",
   "id": "f464a373-2cfe-48ce-b508-781ba6a4a8fd",
   "metadata": {},
   "source": [
    "### *** Intermission - Back to lecture ***"
   ]
  },
  {
   "cell_type": "markdown",
   "id": "e35d5cf5-bcb5-4895-a34b-027dcaacef43",
   "metadata": {},
   "source": [
    "## Part 2 - Add a transient K+ ion channel (IA) as in the Conner & Stevens model (see: Dayan & Abbott, pg 196)"
   ]
  },
  {
   "cell_type": "code",
   "execution_count": 43,
   "id": "e5aa4b70-5c8d-4388-8d0d-f2fa47967c72",
   "metadata": {},
   "outputs": [
    {
     "data": {
      "text/plain": [
       "__nrnsec_0x5577df6fb220"
      ]
     },
     "execution_count": 43,
     "metadata": {},
     "output_type": "execute_result"
    }
   ],
   "source": [
    "soma.insert(\"K_Tst\")"
   ]
  },
  {
   "cell_type": "code",
   "execution_count": 44,
   "id": "3beca7dd-f9a6-4d1e-8290-bb9fec4bb9f6",
   "metadata": {},
   "outputs": [],
   "source": [
    "soma(0.5).K_Tst.gK_Tstbar = 0.1*0.477"
   ]
  },
  {
   "cell_type": "code",
   "execution_count": 56,
   "id": "918157e1-cf79-417d-be66-bdaf742948fa",
   "metadata": {},
   "outputs": [
    {
     "data": {
      "text/plain": [
       "(195.0, 225.0, -80.0, 20.0)"
      ]
     },
     "execution_count": 56,
     "metadata": {},
     "output_type": "execute_result"
    },
    {
     "data": {
      "image/png": "[encoded data removed]",
      "text/plain": [
       "<Figure size 640x480 with 2 Axes>"
      ]
     },
     "metadata": {},
     "output_type": "display_data"
    }
   ],
   "source": [
    "soma(0.5).hh.gkbar = 0.0\n",
    "soma(0.5).hh.gnabar = 0.0 # Zero HH Na conductance\n",
    "fig = plt.figure()\n",
    "ax1, ax2 = fig.subplots(2, 1)\n",
    "for holding_voltage in [-70, -60, -50, -40, -30, -20, -10, 0]:\n",
    "    a_t, v, i = run_sim(holding_voltage)\n",
    "    ax1.plot(a_t, i, lw=2, label=\"%f mV\" % holding_voltage)\n",
    "    ax2.plot(a_t, v, lw=2, label=\"%f mV\" % holding_voltage)\n",
    "    #plt.legend(fontsize=12)\n",
    "ax1.set_xlabel(\"t [ms]\", size=16)\n",
    "ax1.set_ylabel(\"i [nA]\", size=16)\n",
    "ax2.set_xlabel(\"t [ms]\", size=16)\n",
    "ax2.set_ylabel(\"v [mV]\", size=16)\n",
    "ax1.axis([195,225,-0.1,0.6])\n",
    "ax2.axis([195,225, -80, 20])"
   ]
  },
  {
   "cell_type": "markdown",
   "id": "f4411a79-33c0-4ccf-ba42-d9d6293ce244",
   "metadata": {},
   "source": [
    "## There is also a transient K+ ion channel (IA) model for the genetically expressed ion channel Kv4.2 from channelpedia "
   ]
  },
  {
   "cell_type": "code",
   "execution_count": 46,
   "id": "40dae5ca-5b92-4adb-bc9b-a84b4eb3bcde",
   "metadata": {},
   "outputs": [
    {
     "data": {
      "text/plain": [
       "__nrnsec_0x5577df6fb220"
      ]
     },
     "execution_count": 46,
     "metadata": {},
     "output_type": "execute_result"
    }
   ],
   "source": [
    "soma.insert(\"Kv4_2_0016\")"
   ]
  },
  {
   "cell_type": "code",
   "execution_count": 47,
   "id": "91f7aef0-d202-4829-be0f-ca3944036e62",
   "metadata": {},
   "outputs": [],
   "source": [
    "soma(0.5).Kv4_2_0016.gKv4_2bar = 0.1*0.477\n",
    "soma(0.5).Kv4_2_0016.q10 = 3.0"
   ]
  },
  {
   "cell_type": "code",
   "execution_count": 48,
   "id": "18a7a306-f2b3-4af5-9d1e-1e535d439eb0",
   "metadata": {},
   "outputs": [
    {
     "data": {
      "text/plain": [
       "3.0"
      ]
     },
     "execution_count": 48,
     "metadata": {},
     "output_type": "execute_result"
    }
   ],
   "source": [
    "soma(0.5).Kv4_2_0016.q10"
   ]
  },
  {
   "cell_type": "code",
   "execution_count": 49,
   "id": "ba02e873-1015-4e93-8d55-bcea6628c4e8",
   "metadata": {},
   "outputs": [],
   "source": [
    "# Zero other transient K+ channel\n",
    "soma(0.5).K_Tst.gK_Tstbar = 0"
   ]
  },
  {
   "cell_type": "code",
   "execution_count": 50,
   "id": "3c71351c-c6b9-41b4-966f-25b1c5c11193",
   "metadata": {
    "colab": {
     "base_uri": "https://localhost:8080/"
    },
    "id": "b75bcf4c-21ef-43b1-99bc-b3c1a73dd991",
    "outputId": "ac83e0f2-a7eb-48d3-e32c-c272964d04fa"
   },
   "outputs": [],
   "source": [
    "def run_sim2(holding_voltage, kv42_temp=34):\n",
    "    vclamp.amp2 = holding_voltage\n",
    "    h.celsius = kv42_temp\n",
    "    h.finitialize( float(v_rest) )\n",
    "    h.continuerun( float(1000 * ms) )\n",
    "    return np.array(t), np.array(soma_v), np.array(vclamp_i)"
   ]
  },
  {
   "cell_type": "code",
   "execution_count": 55,
   "id": "669d3ec1-1c35-4fb2-bea0-356b225bc949",
   "metadata": {},
   "outputs": [
    {
     "data": {
      "text/plain": [
       "(195.0, 225.0, -80.0, 20.0)"
      ]
     },
     "execution_count": 55,
     "metadata": {},
     "output_type": "execute_result"
    },
    {
     "data": {
      "image/png": "[encoded data removed]",
      "text/plain": [
       "<Figure size 640x480 with 2 Axes>"
      ]
     },
     "metadata": {},
     "output_type": "display_data"
    }
   ],
   "source": [
    "soma(0.5).hh.gkbar = 0.0\n",
    "soma(0.5).K_Tst.gK_Tstbar = 0.0\n",
    "#soma(0.5).Kv4_2_0016.gKv4_2bar = 0\n",
    "soma(0.5).hh.gnabar = 0.0 # Zero HH Na conductance\n",
    "fig = plt.figure()\n",
    "ax1, ax2 = fig.subplots(2, 1)\n",
    "#for holding_voltage in [-70, -60, -50, -40, -30, -20, -10, 0]:\n",
    "holding_voltage = 0\n",
    "for temp in [15, 25, 35]:\n",
    "    a_t, v, i = run_sim2(0, temp)\n",
    "    ax1.plot(a_t, i, lw=1, label=\"%.1f deg C\" % temp)\n",
    "    ax2.plot(a_t, v, lw=1, label=\"%f mV\" % holding_voltage)\n",
    "    ax1.legend()\n",
    "    #plt.legend(fontsize=12)\n",
    "ax1.set_xlabel(\"t [ms]\", size=16)\n",
    "ax1.set_ylabel(\"i [nA]\", size=16)\n",
    "ax2.set_xlabel(\"t [ms]\", size=16)\n",
    "ax2.set_ylabel(\"v [mV]\", size=16)\n",
    "ax1.axis([195,225,-0.1,0.6])\n",
    "ax2.axis([195,225, -80, 20])"
   ]
  },
  {
   "cell_type": "code",
   "execution_count": null,
   "id": "e261c079-3d25-4d22-9da2-80cbabe0624b",
   "metadata": {},
   "outputs": [],
   "source": []
  }
 ],
 "metadata": {
  "colab": {
   "provenance": []
  },
  "kernelspec": {
   "display_name": "Python 3 (ipykernel)",
   "language": "python",
   "name": "python3"
  },
  "language_info": {
   "codemirror_mode": {
    "name": "ipython",
    "version": 3
   },
   "file_extension": ".py",
   "mimetype": "text/x-python",
   "name": "python",
   "nbconvert_exporter": "python",
   "pygments_lexer": "ipython3",
   "version": "3.10.12"
  }
 },
 "nbformat": 4,
 "nbformat_minor": 5
}
